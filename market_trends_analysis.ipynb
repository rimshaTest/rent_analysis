{
 "cells": [
  {
   "cell_type": "markdown",
   "id": "f1a34caf",
   "metadata": {},
   "source": [
    "Dimensionality reduction (Autoencoder)"
   ]
  },
  {
   "cell_type": "markdown",
   "id": "b7ba4615",
   "metadata": {},
   "source": [
    "K-means clustering"
   ]
  }
 ],
 "metadata": {
  "language_info": {
   "name": "python"
  }
 },
 "nbformat": 4,
 "nbformat_minor": 5
}
