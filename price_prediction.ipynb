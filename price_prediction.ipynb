{
 "cells": [
  {
   "cell_type": "markdown",
   "id": "60629fb8",
   "metadata": {},
   "source": [
    "Linear Regression"
   ]
  },
  {
   "cell_type": "markdown",
   "id": "764d7654",
   "metadata": {},
   "source": [
    "MLP (Neural Network)"
   ]
  }
 ],
 "metadata": {
  "language_info": {
   "name": "python"
  }
 },
 "nbformat": 4,
 "nbformat_minor": 5
}
