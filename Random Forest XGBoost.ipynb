{
 "cells": [
  {
   "cell_type": "code",
   "execution_count": 2,
   "id": "616f0f77-67a6-4458-9f43-aec37ce4b298",
   "metadata": {},
   "outputs": [],
   "source": [
    "import pandas as pd\n",
    "import numpy as np\n",
    "from sklearn.model_selection import train_test_split\n",
    "from sklearn.ensemble import RandomForestRegressor\n",
    "from sklearn.metrics import mean_squared_error, r2_score\n",
    "import xgboost as xgb"
   ]
  },
  {
   "cell_type": "code",
   "execution_count": 3,
   "id": "cf0dcba5-808e-4dd1-b4f3-0ae526afb7a2",
   "metadata": {},
   "outputs": [],
   "source": [
    "df = pd.read_csv(\"apartments_for_rent_classified_10K.csv\", delimiter=';', encoding=\"Windows-1252\")"
   ]
  },
  {
   "cell_type": "code",
   "execution_count": 4,
   "id": "537b4dda-06f6-4dd9-8d71-5ab4227a3226",
   "metadata": {},
   "outputs": [
    {
     "name": "stdout",
     "output_type": "stream",
     "text": [
      "Index(['id', 'category', 'title', 'body', 'amenities', 'bathrooms', 'bedrooms',\n",
      "       'currency', 'fee', 'has_photo', 'pets_allowed', 'price',\n",
      "       'price_display', 'price_type', 'square_feet', 'address', 'cityname',\n",
      "       'state', 'latitude', 'longitude', 'source', 'time'],\n",
      "      dtype='object')\n"
     ]
    }
   ],
   "source": [
    "print(df.columns)"
   ]
  },
  {
   "cell_type": "code",
   "execution_count": 5,
   "id": "7a43a371-a3b6-43c2-8d96-c2e6a670ddd8",
   "metadata": {},
   "outputs": [],
   "source": [
    "# only these features seem to affect the price of a listing.\n",
    "df = df[['amenities', 'bathrooms', 'bedrooms', 'has_photo', 'pets_allowed', 'price', 'square_feet', 'cityname', 'state']]\n",
    "drop_null = ['bathrooms', 'bedrooms', 'cityname', 'state']\n",
    "\n",
    "# drop the null values in the bathrooms, bedrooms, cityname, and state columns\n",
    "df = df.dropna(subset=drop_null)"
   ]
  },
  {
   "cell_type": "code",
   "execution_count": 6,
   "id": "982ec97e-cf12-4237-b105-ace65981921e",
   "metadata": {},
   "outputs": [],
   "source": [
    "# if there are amenities, pets, or photos, mark as 1, else mark as 0.\n",
    "df['amenities'] = df['amenities'].apply(lambda x: 0 if pd.isna(x) or str(x).strip() == '' else 1)\n",
    "df['pets_allowed'] = df['pets_allowed'].apply(lambda x: 0 if pd.isna(x) or str(x).strip() == '' else 1)\n",
    "df['has_photo'] = df['has_photo'].apply(lambda x: 1 if isinstance(x, str) and x.strip().lower() in ['yes', 'thumbnail'] else 0)"
   ]
  },
  {
   "cell_type": "code",
   "execution_count": 9,
   "id": "ad30fc16-9502-4850-94c7-01984352322e",
   "metadata": {},
   "outputs": [],
   "source": [
    "# Combine cityname and state into 'location'\n",
    "df['location'] = df['cityname'].str.strip() + \", \" + df['state'].str.strip()\n",
    "\n",
    "# Calculate average price by location\n",
    "avg_price = df.groupby('location')['price'].mean().reset_index(name='avg_price_location')\n",
    "\n",
    "# Merge average price back to the original df\n",
    "df = df.merge(avg_price, on='location', how='left')\n",
    "\n",
    "df = df.drop(columns=['cityname', 'state'])"
   ]
  },
  {
   "cell_type": "code",
   "execution_count": 10,
   "id": "b22d91b7-8b0a-4f74-afa0-1c089f4bcb41",
   "metadata": {},
   "outputs": [
    {
     "name": "stdout",
     "output_type": "stream",
     "text": [
      "<class 'pandas.core.frame.DataFrame'>\n",
      "RangeIndex: 9883 entries, 0 to 9882\n",
      "Data columns (total 9 columns):\n",
      " #   Column              Non-Null Count  Dtype  \n",
      "---  ------              --------------  -----  \n",
      " 0   amenities           9883 non-null   int64  \n",
      " 1   bathrooms           9883 non-null   float64\n",
      " 2   bedrooms            9883 non-null   float64\n",
      " 3   has_photo           9883 non-null   int64  \n",
      " 4   pets_allowed        9883 non-null   int64  \n",
      " 5   price               9883 non-null   int64  \n",
      " 6   square_feet         9883 non-null   int64  \n",
      " 7   location            9883 non-null   object \n",
      " 8   avg_price_location  9883 non-null   float64\n",
      "dtypes: float64(3), int64(5), object(1)\n",
      "memory usage: 695.0+ KB\n"
     ]
    }
   ],
   "source": [
    "df.info()"
   ]
  },
  {
   "cell_type": "code",
   "execution_count": 11,
   "id": "9e4e12fc-bffb-4b5f-bd20-ea93c365136c",
   "metadata": {},
   "outputs": [],
   "source": [
    "features = ['amenities', 'bathrooms', 'bedrooms', 'has_photo', 'pets_allowed', 'square_feet', 'avg_price_location']\n",
    "X = df[features]\n",
    "y = df['price']"
   ]
  },
  {
   "cell_type": "code",
   "execution_count": 12,
   "id": "90e4bfa0-44e1-41f2-ad3e-3314fdf2a0e3",
   "metadata": {},
   "outputs": [],
   "source": [
    "X_train, X_test, y_train, y_test = train_test_split(X, y, test_size=0.2, random_state=42)"
   ]
  },
  {
   "cell_type": "code",
   "execution_count": 16,
   "id": "612b4096-8636-49e6-8536-aa18b4743c41",
   "metadata": {},
   "outputs": [
    {
     "name": "stdout",
     "output_type": "stream",
     "text": [
      "Random Forest Results:\n",
      "Train RMSE: 289.79\n",
      "Train R^2: 0.93\n",
      "Test RMSE: 415.40\n",
      "Test R^2: 0.77\n",
      "\n"
     ]
    }
   ],
   "source": [
    "# use random forest to calculate RSME and correlation\n",
    "rf = RandomForestRegressor(n_estimators=200, random_state=42)\n",
    "rf.fit(X_train, y_train)\n",
    "y_train_pred_rf = rf.predict(X_train)\n",
    "y_test_pred_rf = rf.predict(X_test)\n",
    "\n",
    "print(\"Random Forest Results:\")\n",
    "print(f\"Train RMSE: {np.sqrt(mean_squared_error(y_train, y_train_pred_rf)):.2f}\")\n",
    "print(f\"Train R^2: {r2_score(y_train, y_train_pred_rf):.2f}\")\n",
    "print(f\"Test RMSE: {np.sqrt(mean_squared_error(y_test, y_test_pred_rf)):.2f}\")\n",
    "print(f\"Test R^2: {r2_score(y_test, y_test_pred_rf):.2f}\")\n",
    "print()"
   ]
  },
  {
   "cell_type": "code",
   "execution_count": 17,
   "id": "fef79cf8-86e8-4416-9da3-4ac71117f743",
   "metadata": {},
   "outputs": [
    {
     "name": "stdout",
     "output_type": "stream",
     "text": [
      "XGBoost Results:\n",
      "Train RMSE: 326.09\n",
      "Train R^2: 0.92\n",
      "Test RMSE: 531.52\n",
      "Test R^2: 0.62\n",
      "\n"
     ]
    }
   ],
   "source": [
    "# use XGBoost to calculate RSME and correlation\n",
    "xgbr = xgb.XGBRegressor(n_estimators=200, random_state=42, learning_rate=0.1, max_depth=5)\n",
    "xgbr.fit(X_train, y_train)\n",
    "y_train_pred_xgb = xgbr.predict(X_train)\n",
    "y_test_pred_xgb = xgbr.predict(X_test)\n",
    "\n",
    "print(\"XGBoost Results:\")\n",
    "print(f\"Train RMSE: {np.sqrt(mean_squared_error(y_train, y_train_pred_xgb)):.2f}\")\n",
    "print(f\"Train R^2: {r2_score(y_train, y_train_pred_xgb):.2f}\")\n",
    "print(f\"Test RMSE: {np.sqrt(mean_squared_error(y_test, y_test_pred_xgb)):.2f}\")\n",
    "print(f\"Test R^2: {r2_score(y_test, y_test_pred_xgb):.2f}\")\n",
    "print()"
   ]
  },
  {
   "cell_type": "code",
   "execution_count": null,
   "id": "0f7a2ba6-2685-4dda-8af9-027cbfd50c3b",
   "metadata": {},
   "outputs": [],
   "source": []
  }
 ],
 "metadata": {
  "kernelspec": {
   "display_name": "Python 3 (ipykernel)",
   "language": "python",
   "name": "python3"
  },
  "language_info": {
   "codemirror_mode": {
    "name": "ipython",
    "version": 3
   },
   "file_extension": ".py",
   "mimetype": "text/x-python",
   "name": "python",
   "nbconvert_exporter": "python",
   "pygments_lexer": "ipython3",
   "version": "3.12.3"
  }
 },
 "nbformat": 4,
 "nbformat_minor": 5
}
